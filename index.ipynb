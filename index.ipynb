{
 "cells": [
  {
   "cell_type": "markdown",
   "metadata": {},
   "source": [
    "## Introduction  \n",
    "In this lab, we would like to make an XGBoost model to study the e-commerce behavior from a multi-category store. First, we need to download the data to your local machine, then we will load the data into a Pandas DataFrame."
   ]
  },
  {
   "cell_type": "markdown",
   "metadata": {},
   "source": [
    "## Objectives\n",
    "- Apply XGBoost to an example"
   ]
  },
  {
   "cell_type": "markdown",
   "metadata": {},
   "source": [
    "## Instruction\n",
    "* Accept the Kaggle policy and download the data from [Kaggle](https://www.kaggle.com/code/tshephisho/ecommerce-behaviour-using-xgboost/data)\n",
    "* For the first model you will only use the 2019-Nov csv data (which is still around ~2gb zipped)"
   ]
  },
  {
   "cell_type": "code",
   "execution_count": 1,
   "metadata": {},
   "outputs": [],
   "source": [
    "# import necessary libraries\n",
    "import numpy as np\n",
    "import pandas as pd\n",
    "import matplotlib.pyplot as plt\n",
    "import matplotlib.dates as dates\n",
    "from datetime import datetime"
   ]
  },
  {
   "cell_type": "code",
   "execution_count": 2,
   "metadata": {
    "_cell_guid": "79c7e3d0-c299-4dcb-8224-4455121ee9b0",
    "_uuid": "d629ff2d2480ee46fbb7e2d37f6b5fab8052498a"
   },
   "outputs": [],
   "source": [
    "# fill this in with your path (absolute path works as well)\n",
    "path_to_file = 'C:/Users/dgardunohorneffer/Downloads/2019-Nov.csv'\n",
    "df = pd.read_csv(path_to_file)"
   ]
  },
  {
   "cell_type": "markdown",
   "metadata": {},
   "source": [
    "Start with some exploratory analysis. First, take a look at the first five rows of the DataFrame. Then get the information about the DataFrame, what is the shape of the DataFrame, and what are the coumn names?"
   ]
  },
  {
   "cell_type": "code",
   "execution_count": 3,
   "metadata": {},
   "outputs": [
    {
     "data": {
      "text/plain": [
       "Index(['event_time', 'event_type', 'product_id', 'category_id',\n",
       "       'category_code', 'brand', 'price', 'user_id', 'user_session'],\n",
       "      dtype='object')"
      ]
     },
     "execution_count": 3,
     "metadata": {},
     "output_type": "execute_result"
    }
   ],
   "source": [
    "df.columns"
   ]
  },
  {
   "cell_type": "code",
   "execution_count": 4,
   "metadata": {},
   "outputs": [
    {
     "data": {
      "text/plain": [
       "(67501979, 9)"
      ]
     },
     "execution_count": 4,
     "metadata": {},
     "output_type": "execute_result"
    }
   ],
   "source": [
    "df.shape"
   ]
  },
  {
   "cell_type": "code",
   "execution_count": 5,
   "metadata": {},
   "outputs": [
    {
     "data": {
      "text/html": [
       "<div>\n",
       "<style scoped>\n",
       "    .dataframe tbody tr th:only-of-type {\n",
       "        vertical-align: middle;\n",
       "    }\n",
       "\n",
       "    .dataframe tbody tr th {\n",
       "        vertical-align: top;\n",
       "    }\n",
       "\n",
       "    .dataframe thead th {\n",
       "        text-align: right;\n",
       "    }\n",
       "</style>\n",
       "<table border=\"1\" class=\"dataframe\">\n",
       "  <thead>\n",
       "    <tr style=\"text-align: right;\">\n",
       "      <th></th>\n",
       "      <th>product_id</th>\n",
       "      <th>category_id</th>\n",
       "      <th>price</th>\n",
       "      <th>user_id</th>\n",
       "    </tr>\n",
       "  </thead>\n",
       "  <tbody>\n",
       "    <tr>\n",
       "      <th>count</th>\n",
       "      <td>6.750198e+07</td>\n",
       "      <td>6.750198e+07</td>\n",
       "      <td>6.750198e+07</td>\n",
       "      <td>6.750198e+07</td>\n",
       "    </tr>\n",
       "    <tr>\n",
       "      <th>mean</th>\n",
       "      <td>1.251406e+07</td>\n",
       "      <td>2.057898e+18</td>\n",
       "      <td>2.924593e+02</td>\n",
       "      <td>5.386397e+08</td>\n",
       "    </tr>\n",
       "    <tr>\n",
       "      <th>std</th>\n",
       "      <td>1.725741e+07</td>\n",
       "      <td>2.012549e+16</td>\n",
       "      <td>3.556745e+02</td>\n",
       "      <td>2.288516e+07</td>\n",
       "    </tr>\n",
       "    <tr>\n",
       "      <th>min</th>\n",
       "      <td>1.000365e+06</td>\n",
       "      <td>2.053014e+18</td>\n",
       "      <td>0.000000e+00</td>\n",
       "      <td>1.030022e+07</td>\n",
       "    </tr>\n",
       "    <tr>\n",
       "      <th>25%</th>\n",
       "      <td>1.305977e+06</td>\n",
       "      <td>2.053014e+18</td>\n",
       "      <td>6.924000e+01</td>\n",
       "      <td>5.164762e+08</td>\n",
       "    </tr>\n",
       "    <tr>\n",
       "      <th>50%</th>\n",
       "      <td>5.100568e+06</td>\n",
       "      <td>2.053014e+18</td>\n",
       "      <td>1.657700e+02</td>\n",
       "      <td>5.350573e+08</td>\n",
       "    </tr>\n",
       "    <tr>\n",
       "      <th>75%</th>\n",
       "      <td>1.730075e+07</td>\n",
       "      <td>2.053014e+18</td>\n",
       "      <td>3.603400e+02</td>\n",
       "      <td>5.610794e+08</td>\n",
       "    </tr>\n",
       "    <tr>\n",
       "      <th>max</th>\n",
       "      <td>1.000286e+08</td>\n",
       "      <td>2.187708e+18</td>\n",
       "      <td>2.574070e+03</td>\n",
       "      <td>5.799699e+08</td>\n",
       "    </tr>\n",
       "  </tbody>\n",
       "</table>\n",
       "</div>"
      ],
      "text/plain": [
       "         product_id   category_id         price       user_id\n",
       "count  6.750198e+07  6.750198e+07  6.750198e+07  6.750198e+07\n",
       "mean   1.251406e+07  2.057898e+18  2.924593e+02  5.386397e+08\n",
       "std    1.725741e+07  2.012549e+16  3.556745e+02  2.288516e+07\n",
       "min    1.000365e+06  2.053014e+18  0.000000e+00  1.030022e+07\n",
       "25%    1.305977e+06  2.053014e+18  6.924000e+01  5.164762e+08\n",
       "50%    5.100568e+06  2.053014e+18  1.657700e+02  5.350573e+08\n",
       "75%    1.730075e+07  2.053014e+18  3.603400e+02  5.610794e+08\n",
       "max    1.000286e+08  2.187708e+18  2.574070e+03  5.799699e+08"
      ]
     },
     "execution_count": 5,
     "metadata": {},
     "output_type": "execute_result"
    }
   ],
   "source": [
    "df.describe()"
   ]
  },
  {
   "cell_type": "code",
   "execution_count": 6,
   "metadata": {},
   "outputs": [
    {
     "name": "stdout",
     "output_type": "stream",
     "text": [
      "<class 'pandas.core.frame.DataFrame'>\n",
      "RangeIndex: 67501979 entries, 0 to 67501978\n",
      "Data columns (total 9 columns):\n",
      " #   Column         Dtype  \n",
      "---  ------         -----  \n",
      " 0   event_time     object \n",
      " 1   event_type     object \n",
      " 2   product_id     int64  \n",
      " 3   category_id    int64  \n",
      " 4   category_code  object \n",
      " 5   brand          object \n",
      " 6   price          float64\n",
      " 7   user_id        int64  \n",
      " 8   user_session   object \n",
      "dtypes: float64(1), int64(3), object(5)\n",
      "memory usage: 4.5+ GB\n"
     ]
    }
   ],
   "source": [
    "df.info()"
   ]
  },
  {
   "cell_type": "markdown",
   "metadata": {},
   "source": [
    "# Know your Customers\n",
    "How many unique customers visit the site? Assign the number of visitors to the visitor variable and print it out"
   ]
  },
  {
   "cell_type": "code",
   "execution_count": 7,
   "metadata": {},
   "outputs": [
    {
     "data": {
      "text/plain": [
       "array([520088904, 530496790, 561587266, ..., 579969533, 579969525,\n",
       "       579969851], dtype=int64)"
      ]
     },
     "execution_count": 7,
     "metadata": {},
     "output_type": "execute_result"
    }
   ],
   "source": [
    "visitor= df.user_id.unique()\n",
    "visitor"
   ]
  },
  {
   "cell_type": "markdown",
   "metadata": {},
   "source": [
    "# Visitors Daily Trend\n",
    "Does traffic fluctuate by date? Try using the `event_time` and `user_id` to see traffic. First you need to select by `event_time` and `user_id`, then you will `drop_duplicates` and `groupby` `event_time` and `user_id`."
   ]
  },
  {
   "cell_type": "code",
   "execution_count": 8,
   "metadata": {},
   "outputs": [],
   "source": [
    "d = df.loc[:, [\"event_time\", \"user_id\"]]\n",
    "d[\"event_time\"] = d[\"event_time\"].apply(lambda s: str(s)[0:10])\n",
    "visitor_by_date = (\n",
    "    d.drop_duplicates()\n",
    "    .groupby([\"event_time\"])[\"user_id\"]\n",
    "    .agg([\"count\"])\n",
    "    .sort_values(by=[\"event_time\"], ascending=True)\n",
    ")\n",
    "x = pd.Series(visitor_by_date.index.values).apply(\n",
    "    lambda s: datetime.strptime(s, \"%Y-%m-%d\").date()\n",
    ")\n",
    "y = visitor_by_date[\"count\"]"
   ]
  },
  {
   "cell_type": "code",
   "execution_count": 9,
   "metadata": {},
   "outputs": [
    {
     "data": {
      "image/png": "[encoded data removed]",
      "text/plain": [
       "<Figure size 1224x360 with 1 Axes>"
      ]
     },
     "metadata": {
      "needs_background": "light"
     },
     "output_type": "display_data"
    }
   ],
   "source": [
    "plt.rcParams[\"figure.figsize\"] = (17, 5)\n",
    "plt.plot(x, y)\n",
    "plt.show()"
   ]
  },
  {
   "cell_type": "markdown",
   "metadata": {},
   "source": [
    "### By Category and Product\n",
    "Which category do customers interact with the most? What brand do they view the most? You can choose just the categories with at least 30 records in order to construct the plots."
   ]
  },
  {
   "cell_type": "code",
   "execution_count": 10,
   "metadata": {},
   "outputs": [],
   "source": [
    "max_category_num = 30\n",
    "top_category = (\n",
    "    df.loc[:, \"category_code\"]\n",
    "    .value_counts()[:max_category_num]\n",
    "    .sort_values(ascending=False)\n",
    ")"
   ]
  },
  {
   "cell_type": "code",
   "execution_count": 11,
   "metadata": {},
   "outputs": [
    {
     "data": {
      "image/png": "[encoded data removed]",
      "text/plain": [
       "<Figure size 1224x360 with 1 Axes>"
      ]
     },
     "metadata": {
      "needs_background": "light"
     },
     "output_type": "display_data"
    }
   ],
   "source": [
    "plt.bar(\n",
    "    height=top_category,\n",
    "    x=top_category.index.array,\n",
    "    color=[\"red\", \"cyan\", \"green\", \"orange\", \"blue\", \"grey\"],\n",
    "    alpha=0.7,\n",
    ")\n",
    "plt.axis(\"off\")\n",
    "plt.show()"
   ]
  },
  {
   "cell_type": "markdown",
   "metadata": {},
   "source": [
    "## Purchases\n",
    "\n",
    "When the event_type is \"purchase\", what item do customers buy?\n",
    "\n",
    "Try using `'event_type' == 'purchase'` and drop empty rows to assess which categories customers buy."
   ]
  },
  {
   "cell_type": "code",
   "execution_count": 12,
   "metadata": {},
   "outputs": [
    {
     "data": {
      "text/html": [
       "<div>\n",
       "<style scoped>\n",
       "    .dataframe tbody tr th:only-of-type {\n",
       "        vertical-align: middle;\n",
       "    }\n",
       "\n",
       "    .dataframe tbody tr th {\n",
       "        vertical-align: top;\n",
       "    }\n",
       "\n",
       "    .dataframe thead th {\n",
       "        text-align: right;\n",
       "    }\n",
       "</style>\n",
       "<table border=\"1\" class=\"dataframe\">\n",
       "  <thead>\n",
       "    <tr style=\"text-align: right;\">\n",
       "      <th></th>\n",
       "      <th>event_time</th>\n",
       "      <th>event_type</th>\n",
       "      <th>product_id</th>\n",
       "      <th>category_id</th>\n",
       "      <th>category_code</th>\n",
       "      <th>brand</th>\n",
       "      <th>price</th>\n",
       "      <th>user_id</th>\n",
       "      <th>user_session</th>\n",
       "    </tr>\n",
       "  </thead>\n",
       "  <tbody>\n",
       "    <tr>\n",
       "      <th>168</th>\n",
       "      <td>2019-11-01 00:01:04 UTC</td>\n",
       "      <td>purchase</td>\n",
       "      <td>1005161</td>\n",
       "      <td>2053013555631882655</td>\n",
       "      <td>electronics.smartphone</td>\n",
       "      <td>xiaomi</td>\n",
       "      <td>211.92</td>\n",
       "      <td>513351129</td>\n",
       "      <td>e6b7ce9b-1938-4e20-976c-8b4163aea11d</td>\n",
       "    </tr>\n",
       "    <tr>\n",
       "      <th>707</th>\n",
       "      <td>2019-11-01 00:04:51 UTC</td>\n",
       "      <td>purchase</td>\n",
       "      <td>1004856</td>\n",
       "      <td>2053013555631882655</td>\n",
       "      <td>electronics.smartphone</td>\n",
       "      <td>samsung</td>\n",
       "      <td>128.42</td>\n",
       "      <td>562958505</td>\n",
       "      <td>0f039697-fedc-40fa-8830-39c1a024351d</td>\n",
       "    </tr>\n",
       "    <tr>\n",
       "      <th>939</th>\n",
       "      <td>2019-11-01 00:06:33 UTC</td>\n",
       "      <td>purchase</td>\n",
       "      <td>1801881</td>\n",
       "      <td>2053013554415534427</td>\n",
       "      <td>electronics.video.tv</td>\n",
       "      <td>samsung</td>\n",
       "      <td>488.80</td>\n",
       "      <td>557746614</td>\n",
       "      <td>4d76d6d3-fff5-4880-8327-e9e57b618e0e</td>\n",
       "    </tr>\n",
       "    <tr>\n",
       "      <th>942</th>\n",
       "      <td>2019-11-01 00:06:34 UTC</td>\n",
       "      <td>purchase</td>\n",
       "      <td>5800823</td>\n",
       "      <td>2053013553945772349</td>\n",
       "      <td>electronics.audio.subwoofer</td>\n",
       "      <td>nakamichi</td>\n",
       "      <td>123.56</td>\n",
       "      <td>514166940</td>\n",
       "      <td>8ef5214a-86ad-4d0b-8df3-4280dd411b47</td>\n",
       "    </tr>\n",
       "    <tr>\n",
       "      <th>1107</th>\n",
       "      <td>2019-11-01 00:07:38 UTC</td>\n",
       "      <td>purchase</td>\n",
       "      <td>30000218</td>\n",
       "      <td>2127425436764865054</td>\n",
       "      <td>construction.tools.welding</td>\n",
       "      <td>magnetta</td>\n",
       "      <td>254.78</td>\n",
       "      <td>515240495</td>\n",
       "      <td>0253151d-5c84-4809-ba02-38ac405494e1</td>\n",
       "    </tr>\n",
       "  </tbody>\n",
       "</table>\n",
       "</div>"
      ],
      "text/plain": [
       "                   event_time event_type  product_id          category_id  \\\n",
       "168   2019-11-01 00:01:04 UTC   purchase     1005161  2053013555631882655   \n",
       "707   2019-11-01 00:04:51 UTC   purchase     1004856  2053013555631882655   \n",
       "939   2019-11-01 00:06:33 UTC   purchase     1801881  2053013554415534427   \n",
       "942   2019-11-01 00:06:34 UTC   purchase     5800823  2053013553945772349   \n",
       "1107  2019-11-01 00:07:38 UTC   purchase    30000218  2127425436764865054   \n",
       "\n",
       "                    category_code      brand   price    user_id  \\\n",
       "168        electronics.smartphone     xiaomi  211.92  513351129   \n",
       "707        electronics.smartphone    samsung  128.42  562958505   \n",
       "939          electronics.video.tv    samsung  488.80  557746614   \n",
       "942   electronics.audio.subwoofer  nakamichi  123.56  514166940   \n",
       "1107   construction.tools.welding   magnetta  254.78  515240495   \n",
       "\n",
       "                              user_session  \n",
       "168   e6b7ce9b-1938-4e20-976c-8b4163aea11d  \n",
       "707   0f039697-fedc-40fa-8830-39c1a024351d  \n",
       "939   4d76d6d3-fff5-4880-8327-e9e57b618e0e  \n",
       "942   8ef5214a-86ad-4d0b-8df3-4280dd411b47  \n",
       "1107  0253151d-5c84-4809-ba02-38ac405494e1  "
      ]
     },
     "execution_count": 12,
     "metadata": {},
     "output_type": "execute_result"
    }
   ],
   "source": [
    "purchase = df.loc[df[\"event_type\"] == \"purchase\"]\n",
    "purchase = purchase.dropna(axis=\"rows\")\n",
    "purchase.head()"
   ]
  },
  {
   "cell_type": "markdown",
   "metadata": {},
   "source": [
    "## What brands do the customers buy?\n",
    "Try grouping by brand and sorting the values by the brand name."
   ]
  },
  {
   "cell_type": "code",
   "execution_count": 13,
   "metadata": {},
   "outputs": [
    {
     "data": {
      "text/html": [
       "<div>\n",
       "<style scoped>\n",
       "    .dataframe tbody tr th:only-of-type {\n",
       "        vertical-align: middle;\n",
       "    }\n",
       "\n",
       "    .dataframe tbody tr th {\n",
       "        vertical-align: top;\n",
       "    }\n",
       "\n",
       "    .dataframe thead th {\n",
       "        text-align: right;\n",
       "    }\n",
       "</style>\n",
       "<table border=\"1\" class=\"dataframe\">\n",
       "  <thead>\n",
       "    <tr style=\"text-align: right;\">\n",
       "      <th></th>\n",
       "      <th>count</th>\n",
       "    </tr>\n",
       "    <tr>\n",
       "      <th>brand</th>\n",
       "      <th></th>\n",
       "    </tr>\n",
       "  </thead>\n",
       "  <tbody>\n",
       "    <tr>\n",
       "      <th>samsung</th>\n",
       "      <td>7889245</td>\n",
       "    </tr>\n",
       "    <tr>\n",
       "      <th>apple</th>\n",
       "      <td>6259379</td>\n",
       "    </tr>\n",
       "    <tr>\n",
       "      <th>xiaomi</th>\n",
       "      <td>4638062</td>\n",
       "    </tr>\n",
       "    <tr>\n",
       "      <th>huawei</th>\n",
       "      <td>1410126</td>\n",
       "    </tr>\n",
       "    <tr>\n",
       "      <th>lucente</th>\n",
       "      <td>1185075</td>\n",
       "    </tr>\n",
       "    <tr>\n",
       "      <th>...</th>\n",
       "      <td>...</td>\n",
       "    </tr>\n",
       "    <tr>\n",
       "      <th>slovo</th>\n",
       "      <td>1</td>\n",
       "    </tr>\n",
       "    <tr>\n",
       "      <th>reshin</th>\n",
       "      <td>1</td>\n",
       "    </tr>\n",
       "    <tr>\n",
       "      <th>holatoys</th>\n",
       "      <td>1</td>\n",
       "    </tr>\n",
       "    <tr>\n",
       "      <th>grifon</th>\n",
       "      <td>1</td>\n",
       "    </tr>\n",
       "    <tr>\n",
       "      <th>yoobao</th>\n",
       "      <td>1</td>\n",
       "    </tr>\n",
       "  </tbody>\n",
       "</table>\n",
       "<p>4200 rows × 1 columns</p>\n",
       "</div>"
      ],
      "text/plain": [
       "            count\n",
       "brand            \n",
       "samsung   7889245\n",
       "apple     6259379\n",
       "xiaomi    4638062\n",
       "huawei    1410126\n",
       "lucente   1185075\n",
       "...           ...\n",
       "slovo           1\n",
       "reshin          1\n",
       "holatoys        1\n",
       "grifon          1\n",
       "yoobao          1\n",
       "\n",
       "[4200 rows x 1 columns]"
      ]
     },
     "execution_count": 13,
     "metadata": {},
     "output_type": "execute_result"
    }
   ],
   "source": [
    "df2 = df.groupby(\"brand\")[\"brand\"].agg([\"count\"]).sort_values(\"count\", ascending=False)\n",
    "df2"
   ]
  },
  {
   "cell_type": "code",
   "execution_count": 14,
   "metadata": {},
   "outputs": [],
   "source": [
    "del d  # free memory"
   ]
  },
  {
   "cell_type": "markdown",
   "metadata": {},
   "source": [
    "# Modeling: predict at the time of addition to a shopping cart if the user will purchase a given product or not\n",
    "\n",
    "### Feature engineering\n",
    "\n",
    "The goal of this modeling is to predict if the user will purchase a product or not when they add the product to the cart. This is called `cart abandonment` if the user does not purchase.\n",
    "\n",
    "First, reconstruct and restructure the data to feed into the machine learning model. For this use case, target only the data for which customers have \"put\" the product into the cart. The relevant `event_type`s are thus \"cart\" and \"purchase\".\n",
    "\n",
    "Create these new features in the training data set:\n",
    "- `activity_count`: number of activity in that session\n",
    "- `category_level1`: category\n",
    "- `category_level2`: sub-category --> split on the \".\" in the category name\n",
    "- `weekday`: weekday of the event --> convert `event_time` to a datetime object, then use `pandas.Timestamp.weekday`\n",
    "- `is_purchased`: whether the is purchased after being put in the cart, this will be the categorical output.\n",
    "\n",
    "Make sure to de-dup any record."
   ]
  },
  {
   "cell_type": "markdown",
   "metadata": {},
   "source": [
    "**Prepare a dataframe for counting activity in the session**"
   ]
  },
  {
   "cell_type": "code",
   "execution_count": 15,
   "metadata": {},
   "outputs": [],
   "source": [
    "# your code\n",
    "# first just eliminate the records where event_type = \"view\" and drop NA values and duplicates\n",
    "df_targets = df.loc[df[\"event_type\"].isin([\"cart\", \"purchase\"])].drop_duplicates(\n",
    "    subset=[\"event_type\", \"product_id\", \"price\", \"user_id\", \"user_session\"]\n",
    ")\n",
    "cart_purchase_users = df.loc[\n",
    "    df[\"event_type\"].isin([\"cart\", \"purchase\"])\n",
    "].drop_duplicates(subset=[\"user_id\"])\n",
    "cart_purchase_users.dropna(how=\"any\", inplace=True)\n",
    "cart_purchase_users_all_activity = df.loc[\n",
    "    df[\"user_id\"].isin(cart_purchase_users[\"user_id\"])\n",
    "]"
   ]
  },
  {
   "cell_type": "code",
   "execution_count": 54,
   "metadata": {},
   "outputs": [],
   "source": [
    "# create the two new columns for the category levels 1 and 2\n",
    "df_targets[\"category_level1\"] = (\n",
    "    df_targets[\"category_code\"].str.split(\".\", expand=True)[0].astype(\"category\")\n",
    ")\n",
    "df_targets[\"category_level2\"] = (\n",
    "    df_targets[\"category_code\"].str.split(\".\", expand=True)[1].astype(\"category\")\n",
    ")"
   ]
  },
  {
   "cell_type": "code",
   "execution_count": 18,
   "metadata": {},
   "outputs": [],
   "source": [
    "# Change the event_time to a timestamp\n",
    "df_targets[\"timestamp\"] = pd.to_datetime(df_targets[\"event_time\"])"
   ]
  },
  {
   "cell_type": "code",
   "execution_count": 19,
   "metadata": {},
   "outputs": [],
   "source": [
    "# Use pandas.dt.dayofweek to get the day of the week\n",
    "df_targets[\"weekday\"] = df_targets[\"timestamp\"].dt.dayofweek"
   ]
  },
  {
   "cell_type": "code",
   "execution_count": 20,
   "metadata": {},
   "outputs": [],
   "source": [
    "# add the is_purchased feature\n",
    "df_targets[\"is_purchased\"] = np.where(df_targets[\"event_type\"] == \"purchase\", 1, 0)\n",
    "df_targets[\"is_purchased\"] = df_targets.groupby([\"user_session\", \"product_id\"])[\n",
    "    \"is_purchased\"\n",
    "].transform(\"max\")"
   ]
  },
  {
   "cell_type": "markdown",
   "metadata": {},
   "source": [
    "### Save new data structure if desired"
   ]
  },
  {
   "cell_type": "code",
   "execution_count": 22,
   "metadata": {},
   "outputs": [],
   "source": [
    "# df_targets.to_csv('training_data.csv')"
   ]
  },
  {
   "cell_type": "code",
   "execution_count": 23,
   "metadata": {},
   "outputs": [
    {
     "name": "stdout",
     "output_type": "stream",
     "text": [
      "<class 'pandas.core.frame.DataFrame'>\n",
      "Int64Index: 26749090 entries, 0 to 26749089\n",
      "Data columns (total 15 columns):\n",
      " #   Column           Dtype              \n",
      "---  ------           -----              \n",
      " 0   event_time       object             \n",
      " 1   event_type       object             \n",
      " 2   product_id       int64              \n",
      " 3   category_id      int64              \n",
      " 4   category_code    object             \n",
      " 5   brand            category           \n",
      " 6   price            float64            \n",
      " 7   user_id          int64              \n",
      " 8   user_session     object             \n",
      " 9   category_level1  category           \n",
      " 10  category_level2  category           \n",
      " 11  timestamp        datetime64[ns, UTC]\n",
      " 12  weekday          int64              \n",
      " 13  is_purchased     float64            \n",
      " 14  activity_count   float64            \n",
      "dtypes: category(3), datetime64[ns, UTC](1), float64(3), int64(4), object(4)\n",
      "memory usage: 2.7+ GB\n"
     ]
    }
   ],
   "source": [
    "df_targets.info()"
   ]
  },
  {
   "cell_type": "code",
   "execution_count": 24,
   "metadata": {},
   "outputs": [],
   "source": [
    "from sklearn.preprocessing import LabelEncoder, MinMaxScaler\n",
    "from sklearn.model_selection import train_test_split\n",
    "from xgboost import plot_importance\n",
    "from sklearn.utils import resample\n",
    "from sklearn import metrics"
   ]
  },
  {
   "cell_type": "markdown",
   "metadata": {},
   "source": [
    "## Resampling training set"
   ]
  },
  {
   "cell_type": "code",
   "execution_count": 25,
   "metadata": {},
   "outputs": [
    {
     "data": {
      "text/plain": [
       "2991287"
      ]
     },
     "execution_count": 25,
     "metadata": {},
     "output_type": "execute_result"
    }
   ],
   "source": [
    "is_purcahase_set = df_targets[df_targets[\"is_purchased\"] == 1]\n",
    "is_purcahase_set.shape[0]"
   ]
  },
  {
   "cell_type": "code",
   "execution_count": 26,
   "metadata": {},
   "outputs": [
    {
     "data": {
      "text/plain": [
       "23757802"
      ]
     },
     "execution_count": 26,
     "metadata": {},
     "output_type": "execute_result"
    }
   ],
   "source": [
    "not_purcahase_set = df_targets[df_targets[\"is_purchased\"] == 0]\n",
    "not_purcahase_set.shape[0]"
   ]
  },
  {
   "cell_type": "code",
   "execution_count": 27,
   "metadata": {},
   "outputs": [],
   "source": [
    "n_samples = 500000\n",
    "is_purchase_downsampled = resample(\n",
    "    is_purcahase_set, replace=False, n_samples=n_samples, random_state=27\n",
    ")\n",
    "not_purcahase_set_downsampled = resample(\n",
    "    not_purcahase_set, replace=False, n_samples=n_samples, random_state=27\n",
    ")"
   ]
  },
  {
   "cell_type": "code",
   "execution_count": 28,
   "metadata": {},
   "outputs": [
    {
     "data": {
      "text/plain": [
       "1.0    500000\n",
       "0.0    500000\n",
       "Name: is_purchased, dtype: int64"
      ]
     },
     "execution_count": 28,
     "metadata": {},
     "output_type": "execute_result"
    }
   ],
   "source": [
    "downsampled = pd.concat([is_purchase_downsampled, not_purcahase_set_downsampled])\n",
    "downsampled[\"is_purchased\"].value_counts()"
   ]
  },
  {
   "cell_type": "code",
   "execution_count": 69,
   "metadata": {},
   "outputs": [],
   "source": [
    "# select the brand, price, weekday, category_level1, cateogry_level2, and activity_count features\n",
    "\n",
    "features = downsampled.loc[\n",
    "    :,\n",
    "    [\n",
    "        \"price\",\n",
    "        \"weekday\",\n",
    "        \"activity_count\",\n",
    "    ],\n",
    "]"
   ]
  },
  {
   "cell_type": "code",
   "execution_count": 70,
   "metadata": {},
   "outputs": [
    {
     "data": {
      "text/html": [
       "<div>\n",
       "<style scoped>\n",
       "    .dataframe tbody tr th:only-of-type {\n",
       "        vertical-align: middle;\n",
       "    }\n",
       "\n",
       "    .dataframe tbody tr th {\n",
       "        vertical-align: top;\n",
       "    }\n",
       "\n",
       "    .dataframe thead th {\n",
       "        text-align: right;\n",
       "    }\n",
       "</style>\n",
       "<table border=\"1\" class=\"dataframe\">\n",
       "  <thead>\n",
       "    <tr style=\"text-align: right;\">\n",
       "      <th></th>\n",
       "      <th>price</th>\n",
       "      <th>weekday</th>\n",
       "      <th>activity_count</th>\n",
       "    </tr>\n",
       "  </thead>\n",
       "  <tbody>\n",
       "    <tr>\n",
       "      <th>24522991</th>\n",
       "      <td>458.96</td>\n",
       "      <td>2</td>\n",
       "      <td>12.0</td>\n",
       "    </tr>\n",
       "    <tr>\n",
       "      <th>20968274</th>\n",
       "      <td>84.43</td>\n",
       "      <td>2</td>\n",
       "      <td>30.0</td>\n",
       "    </tr>\n",
       "    <tr>\n",
       "      <th>21415500</th>\n",
       "      <td>195.31</td>\n",
       "      <td>3</td>\n",
       "      <td>7.0</td>\n",
       "    </tr>\n",
       "    <tr>\n",
       "      <th>22427083</th>\n",
       "      <td>1003.57</td>\n",
       "      <td>5</td>\n",
       "      <td>7.0</td>\n",
       "    </tr>\n",
       "    <tr>\n",
       "      <th>24304376</th>\n",
       "      <td>299.93</td>\n",
       "      <td>1</td>\n",
       "      <td>11.0</td>\n",
       "    </tr>\n",
       "  </tbody>\n",
       "</table>\n",
       "</div>"
      ],
      "text/plain": [
       "            price  weekday  activity_count\n",
       "24522991   458.96        2            12.0\n",
       "20968274    84.43        2            30.0\n",
       "21415500   195.31        3             7.0\n",
       "22427083  1003.57        5             7.0\n",
       "24304376   299.93        1            11.0"
      ]
     },
     "execution_count": 70,
     "metadata": {},
     "output_type": "execute_result"
    }
   ],
   "source": [
    "features.head()"
   ]
  },
  {
   "cell_type": "code",
   "execution_count": 71,
   "metadata": {},
   "outputs": [
    {
     "data": {
      "text/plain": [
       "3215893     0.0\n",
       "19557559    0.0\n",
       "12324105    0.0\n",
       "15467236    0.0\n",
       "8507263     0.0\n",
       "Name: is_purchased, dtype: float64"
      ]
     },
     "execution_count": 71,
     "metadata": {},
     "output_type": "execute_result"
    }
   ],
   "source": [
    "downsampled[\"is_purchased\"].tail()"
   ]
  },
  {
   "cell_type": "markdown",
   "metadata": {},
   "source": [
    "## Encode categorical variables"
   ]
  },
  {
   "cell_type": "code",
   "execution_count": 72,
   "metadata": {},
   "outputs": [
    {
     "name": "stdout",
     "output_type": "stream",
     "text": [
      "['price', 'weekday', 'activity_count']\n"
     ]
    }
   ],
   "source": [
    "print(list(features.columns))"
   ]
  },
  {
   "cell_type": "markdown",
   "metadata": {},
   "source": [
    "## Split the data\n",
    "Use a test size of 0.3 and a random state of 86 to split the data into test and train subsets"
   ]
  },
  {
   "cell_type": "code",
   "execution_count": 73,
   "metadata": {},
   "outputs": [],
   "source": [
    "X_train, X_test, y_train, y_test = train_test_split(features, downsampled[\"is_purchased\"] , test_size=0.3, random_state=86)"
   ]
  },
  {
   "cell_type": "markdown",
   "metadata": {},
   "source": [
    "## Train the model\n",
    "Choose learning rate of 0.1 on XGBClassifier, fit the model, and make predictions on the test set"
   ]
  },
  {
   "cell_type": "code",
   "execution_count": 74,
   "metadata": {},
   "outputs": [],
   "source": [
    "from xgboost import XGBClassifier\n",
    "\n",
    "model =XGBClassifier(learning_rate=0.1)\n",
    "# fit the model on the train sets\n",
    "model.fit(X_train, y_train)\n",
    "y_pred = model.predict(X_test)"
   ]
  },
  {
   "cell_type": "code",
   "execution_count": 75,
   "metadata": {},
   "outputs": [
    {
     "name": "stdout",
     "output_type": "stream",
     "text": [
      "Accuracy: 0.6780933333333333\n",
      "Precision: 0.658596474579488\n",
      "Recall: 0.7400234585343748\n",
      "fbeta: 0.6786071363708078\n"
     ]
    }
   ],
   "source": [
    "print(\"Accuracy:\", metrics.accuracy_score(y_test, y_pred))\n",
    "print(\"Precision:\", metrics.precision_score(y_test, y_pred))\n",
    "print(\"Recall:\", metrics.recall_score(y_test, y_pred))\n",
    "print(\"fbeta:\", metrics.fbeta_score(y_test, y_pred, average=\"weighted\", beta=0.5))"
   ]
  },
  {
   "cell_type": "markdown",
   "metadata": {},
   "source": [
    "## Feature importance\n",
    "Plot the feature importance using plot_importance"
   ]
  },
  {
   "cell_type": "code",
   "execution_count": 76,
   "metadata": {},
   "outputs": [
    {
     "data": {
      "image/png": "[encoded data removed]",
      "text/plain": [
       "<Figure size 1224x360 with 1 Axes>"
      ]
     },
     "metadata": {
      "needs_background": "light"
     },
     "output_type": "display_data"
    }
   ],
   "source": [
    "plot_importance(model, max_num_features=10, importance_type=\"gain\")\n",
    "# plt.rcParams['figure.figsize'] = (40,10)\n",
    "plt.show()"
   ]
  }
 ],
 "metadata": {
  "kernelspec": {
   "display_name": "Python (learn-env)",
   "language": "python",
   "name": "learn-env"
  },
  "language_info": {
   "codemirror_mode": {
    "name": "ipython",
    "version": 3
   },
   "file_extension": ".py",
   "mimetype": "text/x-python",
   "name": "python",
   "nbconvert_exporter": "python",
   "pygments_lexer": "ipython3",
   "version": "3.8.5"
  }
 },
 "nbformat": 4,
 "nbformat_minor": 4
}
